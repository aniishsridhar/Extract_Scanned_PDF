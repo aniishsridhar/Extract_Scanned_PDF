{
  "nbformat": 4,
  "nbformat_minor": 0,
  "metadata": {
    "colab": {
      "provenance": []
    },
    "kernelspec": {
      "name": "python3",
      "display_name": "Python 3"
    },
    "language_info": {
      "name": "python"
    }
  },
  "cells": [
    {
      "cell_type": "code",
      "execution_count": null,
      "metadata": {
        "id": "eNurVsyTFuQE"
      },
      "outputs": [],
      "source": [
        "import pandas as pd\n",
        "from google.colab import drive\n",
        "drive.mount('/content/drive')"
      ]
    },
    {
      "cell_type": "code",
      "source": [
        "!pip install PyPDF2\n",
        "!pip install pdfminer\n",
        "!pip install pdfplumber\n",
        "!pip install pytesseract\n",
        "!pip install pypdf\n",
        "!pip install pdf2image\n",
        "!apt-get install poppler-utils\n",
        "!pip install opencv-python\n",
        "! apt install tesseract-ocr\n",
        "! apt install libtesseract-dev\n",
        "!pip install ocrmypdf"
      ],
      "metadata": {
        "id": "cqyRZuitPU_F"
      },
      "execution_count": null,
      "outputs": []
    },
    {
      "cell_type": "code",
      "source": [
        "import PyPDF2\n",
        "# To analyze the PDF layout and extract text\n",
        "from pdfminer.high_level import extract_pages, extract_text\n",
        "from pdfminer.layout import LTTextContainer, LTChar, LTRect, LTFigure\n",
        "from pytesseract import Output, TesseractError\n",
        "\n",
        "# To extract text from tables in PDF\n",
        "import pdfplumber\n",
        "import pytesseract\n",
        "import nltk\n",
        "from nltk.tokenize import sent_tokenize\n",
        "nltk.download(\"punkt\")\n",
        "import pandas as pd\n",
        "# To remove the additional created files\n",
        "import os\n",
        "import glob\n",
        "import re\n",
        "from pypdf import PdfReader\n",
        "import numpy as np\n",
        "import pdf2image\n",
        "from pdf2image import convert_from_bytes\n",
        "import cv2\n",
        "pytesseract.pytesseract.tesseract_cmd = r'/bin/tesseract'\n"
      ],
      "metadata": {
        "id": "ISSLZMBRF0ky"
      },
      "execution_count": null,
      "outputs": []
    },
    {
      "cell_type": "code",
      "source": [
        "from pdf2image import convert_from_path\n",
        "\n",
        "pages = convert_from_path('20181012083108P030172521293001.pdf')\n",
        "\n",
        "# Save each page as a JPEG file using Pillow\n",
        "\n",
        "for i, page in enumerate(pages):\n",
        "\tpage.save(f'page_{i}.jpg', 'JPEG')"
      ],
      "metadata": {
        "id": "6HIVIZ-sU7fB"
      },
      "execution_count": null,
      "outputs": []
    },
    {
      "cell_type": "code",
      "source": [
        "%cd /content/drive/My Drive/Colab Notebooks/\n",
        "\n",
        "\n",
        "\n",
        "def extract_sch(doc_path, string_txt):\n",
        "  reader = PdfReader(doc_path)\n",
        "\n",
        "# get number of pages\n",
        "  num_pages = len(reader.pages)\n",
        "\n",
        "# define key terms\n",
        "\n",
        "# extract text and do the search\n",
        "  counter = 0\n",
        "  index_val = 0\n",
        "  df_pages = pd.DataFrame({'Doc_Id':[],'Page':[]})\n",
        "  for page in reader.pages:\n",
        "    counter = counter + 1\n",
        "    text = page.extract_text()\n",
        "    # print(text)\n",
        "    res_search = re.search(string_txt, text)\n",
        "    if res_search:\n",
        "      index_val = index_val + 1\n",
        "      current_df = pd.DataFrame({'Doc_Id': [doc_path],'Page': [counter]}, index = [index_val])\n",
        "      df_pages = pd.concat([df_pages, current_df])\n",
        "  return df_pages\n",
        "\n",
        "#movado_g = extract_sch('20181004071217P040082195999001.pdf', \"Schedule H, Line 4i\")\n",
        "northern_tst = extract_sch('20200729162134NAL0010984736001.pdf', \"Schedule H, line 4(i)\")\n",
        "#finan_inst = extract_sch(\"20180724105202P030082018193001.pdf\", \"SCHEDULE H, LINE 4i\")\n",
        "\n",
        "#df_all = pd.concat([movado_g, northern_tst, finan_inst])\n"
      ],
      "metadata": {
        "id": "N6RisXGLG-KR"
      },
      "execution_count": null,
      "outputs": []
    },
    {
      "cell_type": "code",
      "source": [
        "print(northern_tst)"
      ],
      "metadata": {
        "id": "3MjsWmIusZxd"
      },
      "execution_count": null,
      "outputs": []
    },
    {
      "cell_type": "code",
      "source": [
        "from pdf2image import convert_from_path\n",
        "\n",
        "%cd /content/drive/My Drive/Colab Notebooks/\n",
        "\n",
        "\n",
        "# Replace 'input_file.pdf' with the path to your PDF file\n",
        "pdf_file = '20181011071602P040246981943001.pdf'\n",
        "pages = convert_from_path(pdf_file)"
      ],
      "metadata": {
        "id": "swPJow4dPOEl"
      },
      "execution_count": null,
      "outputs": []
    },
    {
      "cell_type": "code",
      "source": [
        "def deskew(image):\n",
        "    gray = cv2.cvtColor(image, cv2.COLOR_BGR2GRAY)\n",
        "    gray = cv2.bitwise_not(gray)\n",
        "    coords = np.column_stack(np.where(gray = 0))\n",
        "    angle = cv2.minAreaRect(coords)[-1]\n",
        "\n",
        "    if angle < -45:\n",
        "        angle = -(90 + angle)\n",
        "    else:\n",
        "        angle = -angle\n",
        "\n",
        "    (h, w) = image.shape[:2]\n",
        "    center = (w // 2, h // 2)\n",
        "    M = cv2.getRotationMatrix2D(center, angle, 1.0)\n",
        "    rotated = cv2.warpAffine(image, M, (w, h), flags=cv2.INTER_CUBIC, borderMode=cv2.BORDER_REPLICATE)\n",
        "\n",
        "    return rotated"
      ],
      "metadata": {
        "id": "Kmx6dYnWVeJr"
      },
      "execution_count": null,
      "outputs": []
    },
    {
      "cell_type": "code",
      "source": [
        "def extract_text_from_image(image):\n",
        "    text = pytesseract.image_to_string(image)\n",
        "    return text\n"
      ],
      "metadata": {
        "id": "vd4nc48-WJu3"
      },
      "execution_count": null,
      "outputs": []
    },
    {
      "cell_type": "code",
      "source": [
        "extracted_text = []\n",
        "import cv2\n",
        "pytesseract.pytesseract.tesseract_cmd = r'/bin/tesseract'  # your path may be different\n",
        "\n",
        "for page in pages[24:29]:\n",
        "    # Step 2: Preprocess the image (deskew)\n",
        "    preprocessed_image = deskew(np.array(page))\n",
        "\n",
        "    # Step 3: Extract text using OCR\n",
        "    text = extract_text_from_image(preprocessed_image)\n",
        "    extracted_text.append(text)\n"
      ],
      "metadata": {
        "id": "E9_a3qEwWQ-F"
      },
      "execution_count": null,
      "outputs": []
    },
    {
      "cell_type": "code",
      "source": [
        "\n",
        "def get_conf(page_gray):\n",
        "    '''return a average confidence value of OCR result '''\n",
        "    df = pytesseract.image_to_data(page_gray,output_type='data.frame')\n",
        "\n",
        "    df.drop(df[df.conf==-1].index.values,inplace=True)\n",
        "    df.reset_index()\n",
        "    return df.conf.mean()\n",
        "\n",
        "def deskew(image):\n",
        "    '''deskew the image'''\n",
        "    gray = cv2.bitwise_not(image)\n",
        "    temp_arr = cv2.threshold(gray, 0, 255, cv2.THRESH_BINARY + cv2.THRESH_OTSU)[1]\n",
        "    coords = np.column_stack(np.where(gray = 0))\n",
        "    angle = cv2.minAreaRect(coords)[-1]\n",
        "    if angle < -45:\n",
        "        angle = -(90 + angle)\n",
        "    else:\n",
        "        angle = -angle\n",
        "    (h, w) = image.shape[:2]\n",
        "    center = (w // 2, h // 2)\n",
        "    M = cv2.getRotationMatrix2D(center, angle, 1.0)\n",
        "    rotated = cv2.warpAffine(image, M, (w, h), flags=cv2.INTER_CUBIC, borderMode=cv2.BORDER_REPLICATE)\n",
        "    return rotated\n",
        "\n",
        "'''\n",
        "Main part of OCR:\n",
        "pages_df: save eextracted text for each pdf file, index by page\n",
        "OCR_dic : dict for saving df of each pdf, filename is the key\n",
        "'''\n",
        "pdf = '20200908153442NAL0011667955001.pdf'\n",
        "#pages = convert_from_path(pdf)\n",
        "file_list = [pdf]\n",
        "OCR_dic={}\n",
        "df = pd.DataFrame({'conf':[], 'text':[]})\n",
        "for file in file_list:\n",
        "    # convert pdf into image\n",
        "    pdf_file = convert_from_bytes(open(os.path.join(file), 'rb').read())\n",
        "    # create a df to save each pdf's text\n",
        "    pages_df = pd.DataFrame(columns=['conf','text'])\n",
        "    for (i,page) in enumerate(pdf_file[27:]) :\n",
        "        try:\n",
        "            # transfer image of pdf_file into array\n",
        "            page_arr = np.asarray(page)\n",
        "            print(page_arr)\n",
        "            # transfer into grayscale\n",
        "            page_arr_gray = cv2.cvtColor(page_arr,cv2.COLOR_BGR2GRAY)\n",
        "            # deskew the page\n",
        "            page_deskew = deskew(page_arr_gray)\n",
        "            # cal confidence value\n",
        "            page_conf = get_conf(page_deskew)\n",
        "            # extract string\n",
        "\n",
        "            pages_df = pd.DataFrame({'conf': page_conf,'text': pytesseract.image_to_string(page_deskew)}, index = ['A'])\n",
        "            df = pd.concat([df, pages_df])\n",
        "        except:\n",
        "            # if can't extract then give some notes into df\n",
        "            pages_df = pd.DataFrame({'conf': page_conf,'text': pytesseract.image_to_string(page_deskew)}, index = ['A'])\n",
        "            df = pd.concat([df, pages_df])\n",
        "            continue\n",
        "    # save df into a dict with filename as key\n",
        "    OCR_dic[file]=pages_df\n",
        "    print('{} is done'.format(file))"
      ],
      "metadata": {
        "id": "qesV5jKckE_K"
      },
      "execution_count": null,
      "outputs": []
    },
    {
      "cell_type": "code",
      "source": [
        "from pdf2image import convert_from_path\n",
        "import glob\n",
        "%cd /content/drive/My Drive/Colab Notebooks/\n",
        "\n",
        "\n",
        "pdf = \"20181011071602P040246981943001.pdf\"\n",
        "#pages = convert_from_path(pdf)\n",
        "file_list = [pdf]\n",
        "for pdf_path in file_list:\n",
        "    pages = convert_from_path(pdf_path, 500)\n",
        "\n",
        "    for pageNum,imgBlob in enumerate(pages):\n",
        "        text = pytesseract.image_to_string(imgBlob,lang='eng')\n",
        "\n",
        "        with open(f'{pdf_path[:-4]}_page{pageNum}.txt', 'w') as the_file:\n",
        "            the_file.write(text)"
      ],
      "metadata": {
        "id": "CYKlwFTmPvzE"
      },
      "execution_count": null,
      "outputs": []
    },
    {
      "cell_type": "code",
      "source": [
        "import pytesseract\n",
        "from PIL import Image, ImageEnhance, ImageFilter\n",
        "%cd /content/drive/My Drive/Colab Notebooks/\n",
        "\n",
        "from pdf2image import convert_from_path\n",
        "\n",
        "pages = convert_from_path('20200729162134NAL0010984736001.pdf')\n",
        "\n",
        "# Save each page as a JPEG file using Pillow\n",
        "\n",
        "for i, page in enumerate(pages):\n",
        "\tpage.save(f'page_{i}.jpg', 'JPEG')\n",
        "\n",
        "\n",
        "text = pytesseract.image_to_string(Image.open('page_48.jpg'))\n"
      ],
      "metadata": {
        "id": "pM_3oOKwhnSy"
      },
      "execution_count": null,
      "outputs": []
    },
    {
      "cell_type": "code",
      "source": [
        "\n",
        "print(text)"
      ],
      "metadata": {
        "id": "OBWay_6VcU_s"
      },
      "execution_count": null,
      "outputs": []
    },
    {
      "cell_type": "code",
      "source": [
        "print(text)"
      ],
      "metadata": {
        "id": "ilssTYSXdovL"
      },
      "execution_count": null,
      "outputs": []
    }
  ]
}